from datetime import datetime, timedelta
from icalendar import Calendar, Event

# Initialize calendar
cal = Calendar()

# Define start date and initial variables
start_date = datetime(2024, 6, 10)
work_start_time = timedelta(hours=9)
work_end_time = timedelta(hours=14)
study_start_time = timedelta(hours=15)
time_block = timedelta(hours=1.5)
evening_block = timedelta(hours=1)

# Function to add events
def add_event(cal, start, duration, summary):
    event = Event()
    event.add('summary', summary)
    event.add('dtstart', start)
    event.add('dtend', start + duration)
    cal.add_component(event)

# Generate events for 5 months
for day in range(150):  # 5 months
    current_date = start_date + timedelta(days=day)
    weekday = current_date.weekday()
    
    if weekday < 5:  # Weekdays
        # After work study sessions
        add_event(cal, current_date + study_start_time, time_block, "Verbal Reasoning: Vocabulary and Reading Comprehension")
        add_event(cal, current_date + study_start_time + time_block, time_block, "Quantitative Reasoning: Math Concepts")
        add_event(cal, current_date + study_start_time + 2*time_block, time_block, "Analytical Writing: Practice Essays")
        add_event(cal, current_date + study_start_time + 3*time_block, time_block, "Physics: Classical Mechanics/Electromagnetism")
        add_event(cal, current_date + study_start_time + 4*time_block, time_block, "Physics: Thermodynamics/Quantum Mechanics")
    else:  # Weekends
        # Morning sessions
        add_event(cal, current_date + work_start_time, 3*time_block, "Verbal & Quantitative Reasoning: Intensive Practice")
        # Afternoon sessions
        add_event(cal, current_date + study_start_time, 3*time_block, "Analytical Writing: Full Essay Practice & Feedback")
        add_event(cal, current_date + study_start_time + 3*time_block, evening_block, "Physics: Optics and Waves")
        # Evening sessions
        add_event(cal, current_date + study_start_time + 4*time_block, evening_block, "Physics: Classical Mechanics/Electromagnetism Review")

# Save to .ics file
with open('gre_study_schedule.ics', 'wb') as f:
    f.write(cal.to_ical())
