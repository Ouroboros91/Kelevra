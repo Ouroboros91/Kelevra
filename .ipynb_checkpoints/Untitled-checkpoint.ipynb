{
 "cells": [
  {
   "cell_type": "code",
   "execution_count": 1,
   "id": "fa5b34e8-5a4b-4a32-8ea2-b909c36ef6e6",
   "metadata": {},
   "outputs": [],
   "source": [
    "from datetime import datetime, timedelta\n",
    "from icalendar import Calendar, Event"
   ]
  },
  {
   "cell_type": "code",
   "execution_count": 3,
   "id": "a884355f-7214-41a5-8fdf-59f7ad4bbb40",
   "metadata": {},
   "outputs": [],
   "source": [
    "# Initialize calendar\n",
    "cal = Calendar()"
   ]
  },
  {
   "cell_type": "code",
   "execution_count": 4,
   "id": "59f6b93b-c9d1-45ea-9069-11cd78cc2000",
   "metadata": {},
   "outputs": [],
   "source": [
    "\n",
    "# Define start date and initial variables\n",
    "start_date = datetime(2024, 6, 10)\n",
    "work_start_time = timedelta(hours=9)\n",
    "work_end_time = timedelta(hours=14)\n",
    "study_start_time = timedelta(hours=15)\n",
    "time_block = timedelta(hours=1.5)\n",
    "evening_block = timedelta(hours=1)\n",
    "\n",
    "# Function to add events\n",
    "def add_event(cal, start, duration, summary):\n",
    "    event = Event()\n",
    "    event.add('summary', summary)\n",
    "    event.add('dtstart', start)\n",
    "    event.add('dtend', start + duration)\n",
    "    cal.add_component(event)\n",
    "\n",
    "# Generate events for 5 months\n",
    "for day in range(150):  # 5 months\n",
    "    current_date = start_date + timedelta(days=day)\n",
    "    weekday = current_date.weekday()\n",
    "    \n",
    "    if weekday < 5:  # Weekdays\n",
    "        # After work study sessions\n",
    "        add_event(cal, current_date + study_start_time, time_block, \"Verbal Reasoning: Vocabulary and Reading Comprehension\")\n",
    "        add_event(cal, current_date + study_start_time + time_block, time_block, \"Quantitative Reasoning: Math Concepts\")\n",
    "        add_event(cal, current_date + study_start_time + 2*time_block, time_block, \"Analytical Writing: Practice Essays\")\n",
    "        add_event(cal, current_date + study_start_time + 3*time_block, time_block, \"Physics: Classical Mechanics/Electromagnetism\")\n",
    "        add_event(cal, current_date + study_start_time + 4*time_block, time_block, \"Physics: Thermodynamics/Quantum Mechanics\")\n",
    "    else:  # Weekends\n",
    "        # Morning sessions\n",
    "        add_event(cal, current_date + work_start_time, 3*time_block, \"Verbal & Quantitative Reasoning: Intensive Practice\")\n",
    "        # Afternoon sessions\n",
    "        add_event(cal, current_date + study_start_time, 3*time_block, \"Analytical Writing: Full Essay Practice & Feedback\")\n",
    "        add_event(cal, current_date + study_start_time + 3*time_block, evening_block, \"Physics: Optics and Waves\")\n",
    "        # Evening sessions\n",
    "        add_event(cal, current_date + study_start_time + 4*time_block, evening_block, \"Physics: Classical Mechanics/Electromagnetism Review\")\n",
    "\n",
    "# Save to .ics file\n",
    "with open('gre_study_schedule.ics', 'wb') as f:\n",
    "    f.write(cal.to_ical())"
   ]
  },
  {
   "cell_type": "code",
   "execution_count": null,
   "id": "26471781-6aa1-4930-ba0d-3f554144c3d3",
   "metadata": {},
   "outputs": [],
   "source": []
  }
 ],
 "metadata": {
  "kernelspec": {
   "display_name": "Python 3 (ipykernel)",
   "language": "python",
   "name": "python3"
  },
  "language_info": {
   "codemirror_mode": {
    "name": "ipython",
    "version": 3
   },
   "file_extension": ".py",
   "mimetype": "text/x-python",
   "name": "python",
   "nbconvert_exporter": "python",
   "pygments_lexer": "ipython3",
   "version": "3.12.4"
  }
 },
 "nbformat": 4,
 "nbformat_minor": 5
}
